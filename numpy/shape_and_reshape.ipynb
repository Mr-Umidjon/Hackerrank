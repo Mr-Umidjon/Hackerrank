{
 "cells": [
  {
   "cell_type": "markdown",
   "id": "5fb787f1-bf92-4025-8cf7-afc65155a026",
   "metadata": {
    "tags": []
   },
   "source": [
    "### You are given a space separated list of nine integers. Your task is to convert this list into a 3x3 NumPy array."
   ]
  },
  {
   "cell_type": "code",
   "execution_count": 6,
   "id": "dec545ba-08f9-4116-afbc-7948e3305de2",
   "metadata": {},
   "outputs": [],
   "source": [
    "import numpy as np"
   ]
  },
  {
   "cell_type": "code",
   "execution_count": 11,
   "id": "a9653ee0-d008-4a70-873a-45f4a6cb6b0d",
   "metadata": {},
   "outputs": [
    {
     "name": "stdin",
     "output_type": "stream",
     "text": [
      " 1 2 3 4 5 6 7 8 9\n"
     ]
    }
   ],
   "source": [
    "my_array = np.array(input().split(' '), int)"
   ]
  },
  {
   "cell_type": "code",
   "execution_count": 13,
   "id": "5dd77f08-48f7-4a2a-a80d-040cfbfa13dc",
   "metadata": {},
   "outputs": [
    {
     "name": "stdout",
     "output_type": "stream",
     "text": [
      "[[1 2 3]\n",
      " [4 5 6]\n",
      " [7 8 9]]\n"
     ]
    }
   ],
   "source": [
    "print(np.reshape(my_array, (3, 3))) # or my_array.shape = (3, 3) "
   ]
  }
 ],
 "metadata": {
  "kernelspec": {
   "display_name": "Python 3 (ipykernel)",
   "language": "python",
   "name": "python3"
  },
  "language_info": {
   "codemirror_mode": {
    "name": "ipython",
    "version": 3
   },
   "file_extension": ".py",
   "mimetype": "text/x-python",
   "name": "python",
   "nbconvert_exporter": "python",
   "pygments_lexer": "ipython3",
   "version": "3.7.7"
  }
 },
 "nbformat": 4,
 "nbformat_minor": 5
}
