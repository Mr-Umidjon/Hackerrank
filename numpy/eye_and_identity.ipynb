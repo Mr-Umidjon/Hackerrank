{
 "cells": [
  {
   "cell_type": "markdown",
   "id": "5f609005-477d-48a6-8f8f-3b0ad5803fab",
   "metadata": {},
   "source": [
    "### In this Eye and Identity problem, Your task is to print an array of size N X M with its main diagonal elements as 1's and 0's everywhere else."
   ]
  },
  {
   "cell_type": "code",
   "execution_count": 10,
   "id": "8fe874a8-6111-4614-97ed-4d2b2b374c64",
   "metadata": {},
   "outputs": [],
   "source": [
    "import numpy"
   ]
  },
  {
   "cell_type": "code",
   "execution_count": 11,
   "id": "121c7560-e495-4dd7-9383-d9f9d3455f9f",
   "metadata": {},
   "outputs": [
    {
     "name": "stdout",
     "output_type": "stream",
     "text": [
      "[[1. 0. 0. 0.]\n",
      " [0. 1. 0. 0.]\n",
      " [0. 0. 1. 0.]\n",
      " [0. 0. 0. 1.]]\n"
     ]
    }
   ],
   "source": [
    "n, m = tuple(map(int, input().split()))\n",
    "print(numpy.eye(n, m))"
   ]
  },
  {
   "cell_type": "code",
   "execution_count": null,
   "outputs": [],
   "source": [],
   "metadata": {
    "collapsed": false,
    "pycharm": {
     "name": "#%%\n"
    }
   }
  }
 ],
 "metadata": {
  "kernelspec": {
   "display_name": "Python 3 (ipykernel)",
   "language": "python",
   "name": "python3"
  },
  "language_info": {
   "codemirror_mode": {
    "name": "ipython",
    "version": 3
   },
   "file_extension": ".py",
   "mimetype": "text/x-python",
   "name": "python",
   "nbconvert_exporter": "python",
   "pygments_lexer": "ipython3",
   "version": "3.7.7"
  }
 },
 "nbformat": 4,
 "nbformat_minor": 5
}