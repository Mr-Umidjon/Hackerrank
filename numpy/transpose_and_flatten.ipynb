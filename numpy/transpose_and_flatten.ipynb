{
 "cells": [
  {
   "cell_type": "markdown",
   "id": "1f3ab6fc-4beb-4ba8-b240-c340c72b3868",
   "metadata": {
    "tags": []
   },
   "source": [
    "### You are given a N*M integer array matrix with space separated elements ( N = rows and M = columns).\n",
    "### Your task is to print the transpose and flatten results."
   ]
  },
  {
   "cell_type": "code",
   "execution_count": 9,
   "id": "a62f2af3-c3da-4e28-95f6-041eb70c2ceb",
   "metadata": {},
   "outputs": [],
   "source": [
    "import numpy as np"
   ]
  },
  {
   "cell_type": "code",
   "execution_count": 11,
   "id": "804e80a2-ee59-4a5d-9c78-5d2e61435c47",
   "metadata": {},
   "outputs": [
    {
     "name": "stdin",
     "output_type": "stream",
     "text": [
      " 2 2\n",
      " 2 2\n",
      " 2 2\n"
     ]
    }
   ],
   "source": [
    "n, m = map(int, input().split())\n",
    "storage = np.array([input().strip().split() for _ in range(n)], int)"
   ]
  },
  {
   "cell_type": "code",
   "execution_count": 12,
   "id": "c851abd2-7675-443a-960f-76cc52cb0f86",
   "metadata": {},
   "outputs": [
    {
     "name": "stdout",
     "output_type": "stream",
     "text": [
      "[[2 2]\n",
      " [2 2]]\n"
     ]
    }
   ],
   "source": [
    "print(np.transpose(storage))"
   ]
  },
  {
   "cell_type": "code",
   "execution_count": 14,
   "id": "b46e1854-81fb-4c46-aade-c3b2ec0efa13",
   "metadata": {},
   "outputs": [
    {
     "name": "stdout",
     "output_type": "stream",
     "text": [
      "[2 2 2 2]\n"
     ]
    }
   ],
   "source": [
    "print(storage.flatten())"
   ]
  }
 ],
 "metadata": {
  "kernelspec": {
   "display_name": "Python 3 (ipykernel)",
   "language": "python",
   "name": "python3"
  },
  "language_info": {
   "codemirror_mode": {
    "name": "ipython",
    "version": 3
   },
   "file_extension": ".py",
   "mimetype": "text/x-python",
   "name": "python",
   "nbconvert_exporter": "python",
   "pygments_lexer": "ipython3",
   "version": "3.7.7"
  }
 },
 "nbformat": 4,
 "nbformat_minor": 5
}
